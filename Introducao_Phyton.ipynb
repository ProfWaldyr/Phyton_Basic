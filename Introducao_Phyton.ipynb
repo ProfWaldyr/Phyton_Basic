{
  "nbformat": 4,
  "nbformat_minor": 0,
  "metadata": {
    "colab": {
      "provenance": [],
      "toc_visible": true,
      "include_colab_link": true
    },
    "kernelspec": {
      "name": "python3",
      "display_name": "Python 3"
    },
    "language_info": {
      "name": "python"
    }
  },
  "cells": [
    {
      "cell_type": "markdown",
      "metadata": {
        "id": "view-in-github",
        "colab_type": "text"
      },
      "source": [
        "<a href=\"https://colab.research.google.com/github/ProfWaldyr/Phyton_Basic/blob/main/Introducao_Phyton.ipynb\" target=\"_parent\"><img src=\"https://colab.research.google.com/assets/colab-badge.svg\" alt=\"Open In Colab\"/></a>"
      ]
    },
    {
      "cell_type": "code",
      "execution_count": null,
      "metadata": {
        "colab": {
          "base_uri": "https://localhost:8080/"
        },
        "id": "cRI8ZQXKjSDY",
        "outputId": "cf6c3531-e42c-4054-b9d9-594700ccd7b1"
      },
      "outputs": [
        {
          "output_type": "stream",
          "name": "stdout",
          "text": [
            "II competição de Phyton\n"
          ]
        }
      ],
      "source": [
        "print(\"II competição de Phyton\")\n"
      ]
    },
    {
      "cell_type": "code",
      "source": [
        "ano = \"II\"\n",
        "\n",
        "print(ano,\"Competição de Phyton\")"
      ],
      "metadata": {
        "colab": {
          "base_uri": "https://localhost:8080/"
        },
        "id": "Q6GYGaPFl3uU",
        "outputId": "4f480e62-55f4-4f87-ee77-3664186009d4"
      },
      "execution_count": null,
      "outputs": [
        {
          "output_type": "stream",
          "name": "stdout",
          "text": [
            "II Competição de Phyton\n"
          ]
        }
      ]
    },
    {
      "cell_type": "code",
      "source": [
        "print(f\"{ano} Competição de Phyton\")"
      ],
      "metadata": {
        "colab": {
          "base_uri": "https://localhost:8080/"
        },
        "id": "WDQbGdYemTmk",
        "outputId": "14a55983-e19f-435f-fea6-2d39775e8d18"
      },
      "execution_count": null,
      "outputs": [
        {
          "output_type": "stream",
          "name": "stdout",
          "text": [
            "II Competição de Phyton\n"
          ]
        }
      ]
    },
    {
      "cell_type": "markdown",
      "source": [
        "AULA 02"
      ],
      "metadata": {
        "id": "bIkz4Y3UZ3Pl"
      }
    },
    {
      "cell_type": "markdown",
      "source": [
        "Contexto:\n",
        "\n",
        "Uma escola está promovendo uma campanha de incentivo à leitura, em que cada estudante recebe pontos ao concluir livros. Esses pontos podem ser trocados por diferentes premios da escola. As categorias de livros têm valores de pontos diferentes:\n",
        "\n",
        "* Livro de ficção: 10 pontos\n",
        "* Livro de não-ficção: 8 pontos\n",
        "* Livro infantil: 6 pontos\n",
        "\n",
        "**Problema:**\n",
        "\n",
        "Rodrigo leu um livro de cada categoria. Agora ele quer saber quantos pontos acumulou com sua leitura.\n",
        "\n",
        "Nosso objetivo é criar um programa em Python que:\n",
        "\n",
        "* Armazene a pontuação de cada categoria de livro em uma variável.\n",
        "* Calcule o total de pontos acumulados por Rodrigo.\n",
        "* Mostre na tela o total de pontos acumulados por Rodrigo."
      ],
      "metadata": {
        "id": "rYToM7GNfOlb"
      }
    },
    {
      "cell_type": "code",
      "source": [
        "livro_ficcao = 10\n",
        "livro_nficcao = 8\n",
        "livro_infantil = 6\n",
        "livro_ficcao_ana = 2\n",
        "livro_infantil_ana = 5\n",
        "\n",
        "pontos_ana = livro_ficcao_ana + livro_infantil_ana\n",
        "pontos_rodrigo = livro_ficcao + livro_nficcao + livro_infantil\n",
        "\n",
        "print(f\"A soma dos pontos de Rodrigo são {pontos_rodrigo}\")\n",
        "print(f\"A soma dos pontos de Ana são {pontos_ana}\")\n",
        "print(f\"Os pontos de Rodrigo e Ana somados são {pontos_rodrigo + pontos_ana}\")\n"
      ],
      "metadata": {
        "colab": {
          "base_uri": "https://localhost:8080/"
        },
        "id": "h360mhFVabAW",
        "outputId": "ad411b0f-3b6d-420c-c6d8-f76361534d68"
      },
      "execution_count": 1,
      "outputs": [
        {
          "output_type": "stream",
          "name": "stdout",
          "text": [
            "A soma dos pontos de Rodrigo são 24\n",
            "A soma dos pontos de Ana são 7\n",
            "Os pontos de Rodrigo e Ana somados são 31\n"
          ]
        }
      ]
    },
    {
      "cell_type": "markdown",
      "source": [
        "AULA 03"
      ],
      "metadata": {
        "id": "qdcxaigwjDPL"
      }
    },
    {
      "cell_type": "markdown",
      "source": [
        "Divisão do tesouro: https://olimpiada.ic.unicamp.br/passadas/OBI2020/fase1/programacao-b/\n",
        "\n",
        "A turma do 2º ano encontrou um envelope cheio de figurinhas. Para garantir uma divisão justa, todos concordaram com a sugestão de João, o dono do envelope:\n",
        "\n",
        "Cada amigo, exceto João, deve receber exatamente o mesmo número de figurinhas. João deve receber o dobro da quantidade que cada amigo recebe. Pode ser que o fato de João ser o dono do envelope tenha ajudado a convencer os amigos, mas também contribuiu o fato de que, do jeito proposto, a divisão era exata, sem sobrar nem faltar figurinhas.\n",
        "\n",
        "**Problema:**\n",
        "\n",
        "Crie um programa que determine a quantidade de figurinhas que João recebeu, dado o número total de figurinhas no envelope e o número de amigos de João.\n",
        "\n",
        "**Entrada:**\n",
        "\n",
        "* A primeira linha contém um número inteiro `total_figurinhas`, que representa o número de figurinhas no envelope.\n",
        "* A segunda linha contém um número inteiro `numero_amigos`, que representa a quantidade de amigos de João (excluindo o próprio João)."
      ],
      "metadata": {
        "id": "dy1LTvqDjGTZ"
      }
    },
    {
      "cell_type": "code",
      "source": [
        "total_figurinhas = int(input(\"digite o total de figurinhas: \"))\n",
        "numero_amigos = int(input(\"digite o numero de amigos: \"))\n",
        "\n",
        "figurinhas_amigos = total_figurinhas // (numero_amigos + 2)\n",
        "\n",
        "figurinhas_joao = 2 * figurinhas_amigos\n",
        "\n",
        "print(f\"Joao recebeu {figurinhas_joao} figurinhas\")\n",
        "\n"
      ],
      "metadata": {
        "id": "5MHIt356jJYy",
        "colab": {
          "base_uri": "https://localhost:8080/"
        },
        "outputId": "3a9eb904-07f9-4654-c675-ba769e134715"
      },
      "execution_count": 2,
      "outputs": [
        {
          "output_type": "stream",
          "name": "stdout",
          "text": [
            "digite o total de figurinhas: 100\n",
            "digite o numero de amigos: 5\n",
            "Joao recebeu 28 figurinhas\n"
          ]
        }
      ]
    },
    {
      "cell_type": "markdown",
      "source": [
        "## DESAFIO"
      ],
      "metadata": {
        "id": "JjWrR4l5yJtX"
      }
    },
    {
      "cell_type": "markdown",
      "source": [
        "Depois de dividir as figurinhas no recreio, João percebeu que ainda havia algumas figurinhas extras em sua mochila. Ele decidiu que essas figurinhas extras também devem ser distribuídas de forma justa entre ele e seus amigos, mantendo a mesma regra:\n",
        "\n",
        "Cada amigo recebe uma quantidade igual de figurinhas.\n",
        "João recebe o dobro da quantidade de figurinhas que cada amigo recebe.\n",
        "Ajude João a distribuir todas as figurinhas, incluindo as extras, de maneira justa, sem deixar nenhuma figurinha sobrando.\n",
        "\n",
        "Entrada\n",
        "\n",
        "* número total de figurinhas no envelope.\n",
        "* número de amigos de João (excluindo o próprio João).\n",
        "* número de figurinhas extras encontradas na mochila de João.\n",
        "* calcular a nova quantidade total de figurinhas, somando as extras.\n",
        "* dividir as figurinhas entre João e seus amigos, garantindo que João receba o dobro de figurinhas que cada amigo.\n",
        "exibir a quantidade de figurinhas que João recebeu."
      ],
      "metadata": {
        "id": "XNF7CdLcyMe-"
      }
    },
    {
      "cell_type": "code",
      "source": [
        "figurinhas_envelope = int(input(\"digite o total de figurinhas envelope: \"))\n",
        "\n",
        "figurinhas_extra_mochila = int(input(\"digite o total de figurinhas da mochila do joao: \"))\n",
        "\n",
        "pessoas = int(input(\"digite o total dos amigos do joao + joao: \"))\n",
        "\n",
        "total_figurinhas = figurinhas_extra_mochila + figurinhas_envelope\n",
        "\n",
        "total_pessoas = pessoas\n",
        "\n",
        "figurinhas_cada_amigo = total_figurinhas // total_pessoas\n",
        "\n",
        "figurinhas_joao = figurinhas_cada_amigo * 2\n",
        "\n",
        "print(f\"total de figurinhas: {total_figurinhas} \")\n",
        "print(f\"total de figurinhas de cada amigo: {figurinhas_cada_amigo} \")\n",
        "print(f\"total de figurinhas do joão:{figurinhas_joao} \")\n"
      ],
      "metadata": {
        "id": "YPX32Oj4yNVL",
        "colab": {
          "base_uri": "https://localhost:8080/"
        },
        "outputId": "b601b149-4d2c-43c0-d4b5-c9c2178f8bcb"
      },
      "execution_count": 9,
      "outputs": [
        {
          "output_type": "stream",
          "name": "stdout",
          "text": [
            "digite o total de figurinhas envelope: 100\n",
            "digite o total de figurinhas da mochila do joao: 20\n",
            "digite o total dos amigos do joao + joao: 3\n",
            "total de figurinhas: 120 \n",
            "total de figurinhas de cada amigo: 40 \n",
            "total de figurinhas do joão:80 \n"
          ]
        }
      ]
    },
    {
      "cell_type": "markdown",
      "source": [
        "## Aula 4\n",
        "\n",
        "Bondinho - link: https://olimpiada.ic.unicamp.br/pratique/pj/2017/f1/bondinho/\n",
        "\n",
        "\n",
        "A turma de um colégio está organizando uma excursão para a serra e, para chegar ao pico da montanha, todos os alunos e monitores devem usar um bondinho. No entanto, a cabine do bondinho tem uma capacidade máxima de 50 pessoas por viagem.\n",
        "\n",
        "Você precisa criar um programa que verifique se todos os alunos e monitores podem ser transportados em apenas uma viagem.\n",
        "\n",
        "**Entrada**\n",
        "\n",
        "* Um número inteiro `numero_alunos`, representando a quantidade de alunos na excursão.\n",
        "* Um número inteiro `numero_monitores`, representando a quantidade de monitores na excursão."
      ],
      "metadata": {
        "id": "E27eYT7aH-Rf"
      }
    },
    {
      "cell_type": "code",
      "source": [],
      "metadata": {
        "id": "jVk911PnIAA1"
      },
      "execution_count": null,
      "outputs": []
    }
  ]
}