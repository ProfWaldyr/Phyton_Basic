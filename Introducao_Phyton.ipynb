{
  "nbformat": 4,
  "nbformat_minor": 0,
  "metadata": {
    "colab": {
      "provenance": [],
      "toc_visible": true,
      "include_colab_link": true
    },
    "kernelspec": {
      "name": "python3",
      "display_name": "Python 3"
    },
    "language_info": {
      "name": "python"
    }
  },
  "cells": [
    {
      "cell_type": "markdown",
      "metadata": {
        "id": "view-in-github",
        "colab_type": "text"
      },
      "source": [
        "<a href=\"https://colab.research.google.com/github/ProfWaldyr/Phyton_Basic/blob/main/Introducao_Phyton.ipynb\" target=\"_parent\"><img src=\"https://colab.research.google.com/assets/colab-badge.svg\" alt=\"Open In Colab\"/></a>"
      ]
    },
    {
      "cell_type": "code",
      "execution_count": null,
      "metadata": {
        "colab": {
          "base_uri": "https://localhost:8080/"
        },
        "id": "cRI8ZQXKjSDY",
        "outputId": "51ef2bc3-7d2e-4c53-ebea-b76e4c8d82be"
      },
      "outputs": [
        {
          "output_type": "stream",
          "name": "stdout",
          "text": [
            "II competição de Phyton\n"
          ]
        }
      ],
      "source": [
        "print(\"II competição de Phyton\")\n"
      ]
    },
    {
      "cell_type": "code",
      "source": [
        "ano = \"II\"\n",
        "\n",
        "print(ano,\"Competição de Phyton\")"
      ],
      "metadata": {
        "colab": {
          "base_uri": "https://localhost:8080/"
        },
        "id": "Q6GYGaPFl3uU",
        "outputId": "3e1e5699-535c-4370-f236-9ce1a1da7e39"
      },
      "execution_count": null,
      "outputs": [
        {
          "output_type": "stream",
          "name": "stdout",
          "text": [
            "II Competição de Phyton\n"
          ]
        }
      ]
    },
    {
      "cell_type": "code",
      "source": [
        "print(f\"{ano} Competição de Phyton\")"
      ],
      "metadata": {
        "colab": {
          "base_uri": "https://localhost:8080/"
        },
        "id": "WDQbGdYemTmk",
        "outputId": "8aab9bea-f32a-4d28-8cd2-69b7bd6fcbc8"
      },
      "execution_count": null,
      "outputs": [
        {
          "output_type": "stream",
          "name": "stdout",
          "text": [
            "II Competição de Phyton\n"
          ]
        }
      ]
    },
    {
      "cell_type": "markdown",
      "source": [
        "AULA 02"
      ],
      "metadata": {
        "id": "bIkz4Y3UZ3Pl"
      }
    },
    {
      "cell_type": "code",
      "source": [
        "livro_ficcao = 10\n",
        "livro_nficcao = 8\n",
        "livro_infantil = 6\n",
        "livro_ficcao_ana = 2\n",
        "livro_infantil_ana = 5\n",
        "\n",
        "pontos_ana = livro_ficcao_ana + livro_infantil_ana\n",
        "pontos_rodrigo = livro_ficcao + livro_nficcao + livro_infantil\n",
        "\n",
        "print(f\"A soma dos pontos de Rodrigo são {pontos_rodrigo}\")\n",
        "print(f\"A soma dos pontos de Ana são {pontos_ana}\")\n"
      ],
      "metadata": {
        "colab": {
          "base_uri": "https://localhost:8080/"
        },
        "id": "h360mhFVabAW",
        "outputId": "5c586318-3227-4888-af34-f169bd404148"
      },
      "execution_count": 7,
      "outputs": [
        {
          "output_type": "stream",
          "name": "stdout",
          "text": [
            "A soma dos pontos de Rodrigo são 24\n",
            "A soma dos pontos de Ana são 7\n"
          ]
        }
      ]
    }
  ]
}